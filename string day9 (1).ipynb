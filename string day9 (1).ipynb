{
 "cells": [
  {
   "cell_type": "markdown",
   "metadata": {},
   "source": [
    "# String"
   ]
  },
  {
   "cell_type": "code",
   "execution_count": 2,
   "metadata": {},
   "outputs": [
    {
     "name": "stdout",
     "output_type": "stream",
     "text": [
      "True\n",
      "True\n"
     ]
    }
   ],
   "source": [
    "s='python is easy programming to learn and intersting'\n",
    "s1=\"python\"\n",
    "print(s.islower())\n",
    "print(s1.islower())\n"
   ]
  },
  {
   "cell_type": "code",
   "execution_count": 6,
   "metadata": {},
   "outputs": [
    {
     "name": "stdout",
     "output_type": "stream",
     "text": [
      "False\n",
      "True\n"
     ]
    }
   ],
   "source": [
    "s=\"application\"\n",
    "s1=\"APP\"\n",
    "print(s.isupper())\n",
    "print(s1.isupper())"
   ]
  },
  {
   "cell_type": "code",
   "execution_count": 9,
   "metadata": {},
   "outputs": [
    {
     "name": "stdout",
     "output_type": "stream",
     "text": [
      "True\n",
      "False\n"
     ]
    }
   ],
   "source": [
    "s='Application'\n",
    "s1=\"app382374\"\n",
    "print(s.isalpha())\n",
    "print(s1.isalpha())\n"
   ]
  },
  {
   "cell_type": "code",
   "execution_count": 19,
   "metadata": {},
   "outputs": [
    {
     "name": "stdout",
     "output_type": "stream",
     "text": [
      "True\n",
      "False\n"
     ]
    }
   ],
   "source": [
    "s='Application'\n",
    "s1=\"app382374\"\n",
    "print(s.istitle())\n",
    "print(s1.istitle())\n"
   ]
  },
  {
   "cell_type": "code",
   "execution_count": 17,
   "metadata": {},
   "outputs": [
    {
     "name": "stdout",
     "output_type": "stream",
     "text": [
      "False\n",
      "False\n"
     ]
    }
   ],
   "source": [
    "s='Application'\n",
    "s1=\"app382374\"\n",
    "print(s.isspace())\n",
    "print(s1.isspace())\n"
   ]
  },
  {
   "cell_type": "code",
   "execution_count": 32,
   "metadata": {},
   "outputs": [
    {
     "name": "stdout",
     "output_type": "stream",
     "text": [
      "a p p l i c a t i o n\n"
     ]
    }
   ],
   "source": [
    "str=\"application\"\n",
    "print(\" \".join(str))\n"
   ]
  },
  {
   "cell_type": "code",
   "execution_count": 38,
   "metadata": {},
   "outputs": [
    {
     "name": "stdout",
     "output_type": "stream",
     "text": [
      "sai allah jesus\n"
     ]
    }
   ],
   "source": [
    "print(\" \".join([\"sai\",\"allah\",\"jesus\"]))\n"
   ]
  },
  {
   "cell_type": "code",
   "execution_count": 43,
   "metadata": {},
   "outputs": [
    {
     "name": "stdout",
     "output_type": "stream",
     "text": [
      "['my self vishwanath.iam studying btech']\n"
     ]
    }
   ],
   "source": [
    "s=\"my self vishwanath.iam studying btech\"\n",
    "print(s.split(\",\"))\n"
   ]
  },
  {
   "cell_type": "code",
   "execution_count": 2,
   "metadata": {},
   "outputs": [
    {
     "name": "stdout",
     "output_type": "stream",
     "text": [
      "['my', 'self', 'vishwanath', 'iam', 'studying', 'btech']\n",
      "3\n"
     ]
    }
   ],
   "source": [
    "s=\"my self vishwanath iam studying btech\"\n",
    "li=s.split()\n",
    "print(li)\n",
    "print(li.index(\"iam\"))\n"
   ]
  },
  {
   "cell_type": "code",
   "execution_count": 3,
   "metadata": {},
   "outputs": [
    {
     "name": "stdout",
     "output_type": "stream",
     "text": [
      "['m', 'y', ' ', 's', 'e', 'l', 'f', ' ', 'v', 'i', 's', 'h', 'w', 'a', 'n', 'a', 't', 'h', ' ', 'i', 'a', 'm', ' ', 's', 't', 'u', 'd', 'y', 'i', 'n', 'g', ' ', 'b', 't', 'e', 'c', 'h']\n"
     ]
    }
   ],
   "source": [
    "s=\"my self vishwanath iam studying btech\"\n",
    "list=list(s)\n",
    "print(list)\n"
   ]
  },
  {
   "cell_type": "code",
   "execution_count": 1,
   "metadata": {},
   "outputs": [
    {
     "name": "stdout",
     "output_type": "stream",
     "text": [
      "my self vishwanath iam studying btech\n"
     ]
    }
   ],
   "source": [
    "s=\"my self vishwanath iam studying btech\"\n",
    "print(s.replace(\"dad\",\"mom\"))"
   ]
  },
  {
   "cell_type": "code",
   "execution_count": 6,
   "metadata": {},
   "outputs": [
    {
     "name": "stdout",
     "output_type": "stream",
     "text": [
      "t[0]= pyton\n",
      "t[1]= progamming\n",
      "t[2]= us\n"
     ]
    }
   ],
   "source": [
    "t=(\"pyton\",\"progamming\",\"us\")\n",
    "print(\"t[0]=\",t[0])\n",
    "print(\"t[1]=\",t[1])\n",
    "print(\"t[2]=\",t[2])   "
   ]
  },
  {
   "cell_type": "code",
   "execution_count": 13,
   "metadata": {},
   "outputs": [
    {
     "name": "stdout",
     "output_type": "stream",
     "text": [
      "('pyton', 'progamming', 'us', 34, 65, 'progamming', 'us')\n"
     ]
    }
   ],
   "source": [
    "t1=(\"pyton\",\"progamming\",\"us\")\n",
    "t2=(34,65,\"progamming\",\"us\")\n",
    "t3=t1+t2\n",
    "print(t3)\n"
   ]
  },
  {
   "cell_type": "code",
   "execution_count": 8,
   "metadata": {},
   "outputs": [
    {
     "name": "stdout",
     "output_type": "stream",
     "text": [
      "3\n"
     ]
    }
   ],
   "source": [
    "t=(\"pyton\",\"progamming\",\"us\")\n",
    "print(len(t1))"
   ]
  },
  {
   "cell_type": "code",
   "execution_count": 12,
   "metadata": {},
   "outputs": [
    {
     "name": "stdout",
     "output_type": "stream",
     "text": [
      "('pyton', 'progamming', 'us')\n",
      "(9, 0, 78, 65, 56)\n"
     ]
    },
    {
     "ename": "NameError",
     "evalue": "name 'cmp' is not defined",
     "output_type": "error",
     "traceback": [
      "\u001b[1;31m---------------------------------------------------------------------------\u001b[0m",
      "\u001b[1;31mNameError\u001b[0m                                 Traceback (most recent call last)",
      "\u001b[1;32m<ipython-input-12-ea22631343a0>\u001b[0m in \u001b[0;36m<module>\u001b[1;34m\u001b[0m\n\u001b[0;32m      3\u001b[0m \u001b[0mprint\u001b[0m\u001b[1;33m(\u001b[0m\u001b[0mt1\u001b[0m\u001b[1;33m)\u001b[0m\u001b[1;33m\u001b[0m\u001b[1;33m\u001b[0m\u001b[0m\n\u001b[0;32m      4\u001b[0m \u001b[0mprint\u001b[0m\u001b[1;33m(\u001b[0m\u001b[0mt2\u001b[0m\u001b[1;33m)\u001b[0m\u001b[1;33m\u001b[0m\u001b[1;33m\u001b[0m\u001b[0m\n\u001b[1;32m----> 5\u001b[1;33m \u001b[0ma\u001b[0m\u001b[1;33m=\u001b[0m\u001b[0mcmp\u001b[0m\u001b[1;33m(\u001b[0m\u001b[0mt1\u001b[0m\u001b[1;33m,\u001b[0m\u001b[0mt2\u001b[0m\u001b[1;33m)\u001b[0m\u001b[1;33m\u001b[0m\u001b[1;33m\u001b[0m\u001b[0m\n\u001b[0m\u001b[0;32m      6\u001b[0m \u001b[0mprint\u001b[0m\u001b[1;33m(\u001b[0m\u001b[0ma\u001b[0m\u001b[1;33m)\u001b[0m\u001b[1;33m\u001b[0m\u001b[1;33m\u001b[0m\u001b[0m\n",
      "\u001b[1;31mNameError\u001b[0m: name 'cmp' is not defined"
     ]
    }
   ],
   "source": [
    "t1=(\"pyton\",\"progamming\",\"us\")\n",
    "t2=(9,0,78,65,56,)\n",
    "print(t1)\n",
    "print(t2)\n",
    "a=cmp(t1,t2)\n",
    "print(a)"
   ]
  },
  {
   "cell_type": "code",
   "execution_count": 11,
   "metadata": {},
   "outputs": [
    {
     "name": "stdout",
     "output_type": "stream",
     "text": [
      "('pyton', 'progamming', 'us')\n"
     ]
    }
   ],
   "source": [
    "t=(\"pyton\",\"progamming\",\"us\")\n",
    "print(t1)\n",
    "del t1"
   ]
  },
  {
   "cell_type": "code",
   "execution_count": 35,
   "metadata": {},
   "outputs": [
    {
     "name": "stdout",
     "output_type": "stream",
     "text": [
      "{1: 'jhgh', 2: 'fngzd', 3: 'hfg'}\n"
     ]
    }
   ],
   "source": [
    "att={1:'jhgh',2:'fngzd',3:'hfg'}\n",
    "print(att)"
   ]
  },
  {
   "cell_type": "code",
   "execution_count": 36,
   "metadata": {},
   "outputs": [],
   "source": [
    "att2=att.copy()\n"
   ]
  },
  {
   "cell_type": "code",
   "execution_count": 37,
   "metadata": {},
   "outputs": [
    {
     "name": "stdout",
     "output_type": "stream",
     "text": [
      "{1: 'jhgh', 2: 'fngzd', 3: 'hfg'}\n"
     ]
    }
   ],
   "source": [
    "print(att2)"
   ]
  },
  {
   "cell_type": "code",
   "execution_count": 38,
   "metadata": {},
   "outputs": [
    {
     "name": "stdout",
     "output_type": "stream",
     "text": [
      "{'Name': 'Anil', 'Age': '29', 'EmailID': 'anil@gmail.com', 'Mobile no.': '123456789'}\n",
      "{'Name': 'Anil', 'Age': '29', 'EmailID': 'anil@gmail.com', 'Mobile no.': '123456789'}\n",
      "{'Name': 'Anil', 'Age': '29', 'EmailID': 'anil@gmail.com', 'Mobile no.': '123456789', 'Address': 'Hyderabad'}\n",
      "{'Name': 'Anil', 'Age': '29', 'EmailID': 'anil@gmail.com', 'Mobile no.': '123456789'}\n"
     ]
    }
   ],
   "source": [
    "user1={'Name': 'Anil', 'Age': '29','EmailID':'anil@gmail.com','Mobile no.':'123456789'}\n",
    "user2=user1.copy()\n",
    "\n",
    "print(user1)\n",
    "print(user2)\n",
    "user1['Address']='Hyderabad'\n",
    "print(user1)\n",
    "print(user2)"
   ]
  },
  {
   "cell_type": "code",
   "execution_count": 39,
   "metadata": {},
   "outputs": [
    {
     "name": "stdout",
     "output_type": "stream",
     "text": [
      "user1[Name]= Anil\n",
      "user1[Age]= 29\n",
      "user1[EmailID]= anil@gmail.com\n",
      "user1[Mobile no.]= 123456789\n"
     ]
    }
   ],
   "source": [
    "user1={'Name': 'Anil', 'Age': '29','EmailID':'anil@gmail.com','Mobile no.':'123456789'}\n",
    "print(\"user1[Name]=\",user1['Name'])\n",
    "print(\"user1[Age]=\",user1['Age'])\n",
    "print(\"user1[EmailID]=\",user1['EmailID'])\n",
    "print(\"user1[Mobile no.]=\",user1['Mobile no.'])\n"
   ]
  },
  {
   "cell_type": "code",
   "execution_count": 40,
   "metadata": {},
   "outputs": [
    {
     "name": "stdout",
     "output_type": "stream",
     "text": [
      "anil@gmail.com\n"
     ]
    }
   ],
   "source": [
    "user1={'Name': 'Anil', 'Age': '29','EmailID':'anil@gmail.com','Mobile no.':'123456789'}\n",
    "print(user1['EmailID']);"
   ]
  },
  {
   "cell_type": "code",
   "execution_count": 41,
   "metadata": {},
   "outputs": [
    {
     "name": "stdout",
     "output_type": "stream",
     "text": [
      "Anil@gmail.com\n",
      "Hyderabad\n"
     ]
    }
   ],
   "source": [
    "#Update\n",
    "user1['EmailID']='Anil@gmail.com'\n",
    "print(user1['EmailID'])\n",
    "user1['Address']='Hyderabad'  #New entry\n",
    "print(user1['Address'])\n",
    "print()"
   ]
  },
  {
   "cell_type": "code",
   "execution_count": 43,
   "metadata": {
    "scrolled": true
   },
   "outputs": [
    {
     "name": "stdout",
     "output_type": "stream",
     "text": [
      "{'Name': 'Anil', 'Age': '29', 'Mobile no.': '123456789'}\n"
     ]
    }
   ],
   "source": [
    "user1={'Name': 'Anil', 'Age': '29','EmailID':'anil@gmail.com','Mobile no.':'123456789'}\n",
    "del user1['EmailID'];\n",
    "#user1.clear()\n",
    "print(user1)\n",
    "del user1"
   ]
  },
  {
   "cell_type": "code",
   "execution_count": 6,
   "metadata": {},
   "outputs": [
    {
     "name": "stdout",
     "output_type": "stream",
     "text": [
      "contact ajay added\n"
     ]
    }
   ],
   "source": [
    "contact={}\n",
    "def addcontact(name,phone):\n",
    "    if name not in contact:\n",
    "        contact[name]=phone\n",
    "        print(\"contact %s added\"% name)\n",
    "    else:\n",
    "        print(\"contact %s already exists\"% name)\n",
    "    return\n",
    "addcontact(\"ajay\",9891631615)\n",
    "            "
   ]
  },
  {
   "cell_type": "code",
   "execution_count": 15,
   "metadata": {},
   "outputs": [
    {
     "name": "stdout",
     "output_type": "stream",
     "text": [
      "% does not exit anil\n",
      "ajay : 9891631615\n",
      "% does not exit harsha\n",
      "% does not exit kranth\n"
     ]
    }
   ],
   "source": [
    "def searchcontact(name):\n",
    "    if name in contact:\n",
    "        print(name,\":\",contact[name])\n",
    "    else:\n",
    "        print(\"% does not exit\",name)\n",
    "        return\n",
    "searchcontact(\"anil\")\n",
    "searchcontact(\"ajay\")\n",
    "searchcontact(\"harsha\")\n",
    "searchcontact(\"kranth\")\n"
   ]
  },
  {
   "cell_type": "code",
   "execution_count": 5,
   "metadata": {},
   "outputs": [
    {
     "data": {
      "text/plain": [
       "1"
      ]
     },
     "execution_count": 5,
     "metadata": {},
     "output_type": "execute_result"
    }
   ],
   "source": [
    "d={\"hafddh\"}\n",
    "len(d)"
   ]
  },
  {
   "cell_type": "code",
   "execution_count": 12,
   "metadata": {},
   "outputs": [
    {
     "name": "stdout",
     "output_type": "stream",
     "text": [
      "120\n"
     ]
    }
   ],
   "source": [
    "from math import factorial\n",
    "def fact(x):\n",
    "    math.factorial() \n",
    "print (factorial(5))"
   ]
  },
  {
   "cell_type": "code",
   "execution_count": null,
   "metadata": {},
   "outputs": [],
   "source": []
  }
 ],
 "metadata": {
  "kernelspec": {
   "display_name": "Python 3",
   "language": "python",
   "name": "python3"
  },
  "language_info": {
   "codemirror_mode": {
    "name": "ipython",
    "version": 3
   },
   "file_extension": ".py",
   "mimetype": "text/x-python",
   "name": "python",
   "nbconvert_exporter": "python",
   "pygments_lexer": "ipython3",
   "version": "3.7.3"
  }
 },
 "nbformat": 4,
 "nbformat_minor": 2
}
