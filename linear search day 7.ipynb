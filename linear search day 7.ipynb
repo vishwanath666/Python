{
 "cells": [
  {
   "cell_type": "code",
   "execution_count": 8,
   "metadata": {},
   "outputs": [
    {
     "name": "stdout",
     "output_type": "stream",
     "text": [
      "1 2 3 6 9 "
     ]
    }
   ],
   "source": [
    "def factorslist(n):\n",
    "    i=1;\n",
    "    while(i!=n):\n",
    "        if(n%i==0):\n",
    "            print(i,end= \" \");\n",
    "        i = i + 1;\n",
    "    return ;\n",
    "factorslist(18);"
   ]
  },
  {
   "cell_type": "code",
   "execution_count": 3,
   "metadata": {},
   "outputs": [
    {
     "data": {
      "text/plain": [
       "4"
      ]
     },
     "execution_count": 3,
     "metadata": {},
     "output_type": "execute_result"
    }
   ],
   "source": [
    "2+2"
   ]
  },
  {
   "cell_type": "markdown",
   "metadata": {},
   "source": [
    "# List in python\n",
    "\n",
    "list can be written in python  with sqruare brackets and each in the list seperated by the commmom operater \n",
    "list can be anything  like :-int ,char"
   ]
  },
  {
   "cell_type": "code",
   "execution_count": 10,
   "metadata": {},
   "outputs": [
    {
     "name": "stdout",
     "output_type": "stream",
     "text": [
      "[1, 2, 3, 4, 5]\n",
      "1\n"
     ]
    }
   ],
   "source": [
    "list1 = [1,2,3,4,5];\n",
    "#Entire list\n",
    "print(list1);\n",
    "#list(0)\n",
    "print(1);"
   ]
  },
  {
   "cell_type": "code",
   "execution_count": 12,
   "metadata": {},
   "outputs": [
    {
     "name": "stdout",
     "output_type": "stream",
     "text": [
      "1 2 3 4 5 \n",
      "5\n"
     ]
    }
   ],
   "source": [
    "# list example with particular index\n",
    "lst1 = [1,2,3,4,5]\n",
    "for x in lst1:\n",
    "    print(x,end=\" \")\n",
    "     \n",
    "print();\n",
    "print(lst1[4]);"
   ]
  },
  {
   "cell_type": "code",
   "execution_count": 14,
   "metadata": {},
   "outputs": [
    {
     "name": "stdout",
     "output_type": "stream",
     "text": [
      "1 2 3 4 5 6 \n",
      "[1, 2, 3]\n",
      "[4, 5, 6]\n"
     ]
    }
   ],
   "source": [
    "lst1 = [1,2,3,4,5,6]\n",
    "for x in lst1:\n",
    "    print(x,end=\" \")\n",
    "    \n",
    "print();\n",
    "print(lst1[0:3]);\n",
    "print(lst1[3:7]);"
   ]
  },
  {
   "cell_type": "code",
   "execution_count": 29,
   "metadata": {},
   "outputs": [
    {
     "name": "stdout",
     "output_type": "stream",
     "text": [
      "1 2 3 4 5 6 \n",
      "[2, 3, 4, 5]\n",
      "[]\n",
      "[3, 4]\n",
      "[6, 4, 2]\n",
      "[6, 5, 4, 3, 2, 1]\n",
      "[5, 6]\n"
     ]
    }
   ],
   "source": [
    "lst1 = [1,2,3,4,5,6]\n",
    "for x in lst1:\n",
    "    print(x,end=\" \")\n",
    "    \n",
    "print();\n",
    "print(lst1[1:-1]);\n",
    "print(lst1[3:-3]);\n",
    "print(lst1[2:-2]);\n",
    "print(lst1[::-2]);\n",
    "print(lst1[::-1]);\n",
    "print(lst1[4::]);"
   ]
  },
  {
   "cell_type": "markdown",
   "metadata": {},
   "source": [
    "# list with range() function;\n",
    "   range(number):\n",
    "   o to number;\n",
    "   "
   ]
  },
  {
   "cell_type": "code",
   "execution_count": 43,
   "metadata": {},
   "outputs": [
    {
     "name": "stdout",
     "output_type": "stream",
     "text": [
      "['a', 'b', 'c', 1]\n",
      "[1, 2, 3, 4, 5]\n",
      "['a', 'b', 1]\n",
      "['a', 'b', 1, 9, 1323]\n",
      "['a', 'aaa', 1, 9, 1323]\n"
     ]
    }
   ],
   "source": [
    "lst1 = [\"a\",\"b\",\"c\",1];\n",
    "print(lst1);\n",
    "lst1[2] = 15;\n",
    "print(list1);\n",
    "del lst1[2];\n",
    "print(lst1);\n",
    "lst1.append(9);\n",
    "lst1.append(1323);\n",
    "print(lst1);\n",
    "lst1[1] = \"aaa\";\n",
    "print(lst1);\n"
   ]
  },
  {
   "cell_type": "markdown",
   "metadata": {},
   "source": [
    "# list methods\n",
    "index(obj)\n"
   ]
  },
  {
   "cell_type": "code",
   "execution_count": 49,
   "metadata": {},
   "outputs": [
    {
     "name": "stdout",
     "output_type": "stream",
     "text": [
      "['a', 'b', 'c', 1, 'd']\n",
      "5\n",
      "['a', 'b', 2019, 'c', 1, 'd']\n",
      "6\n",
      "['a', 'b', 2019, 'c', 1999, 1, 'd']\n"
     ]
    }
   ],
   "source": [
    "lst1 = [\"a\",\"b\",\"c\",1,\"d\"];\n",
    "print(lst1)\n",
    "lst1.index(\"a\")\n",
    "lst1.index(1)\n",
    "print(len(lst1))\n",
    "lst1.insert(2,2019)\n",
    "print(lst1)\n",
    "print(len(lst1))\n",
    "lst1.insert(4,1999)\n",
    "print(lst1)"
   ]
  },
  {
   "cell_type": "code",
   "execution_count": 51,
   "metadata": {},
   "outputs": [
    {
     "name": "stdout",
     "output_type": "stream",
     "text": [
      "['a', 'b', 'c', 1, 'd']\n",
      "['a', 'c', 1, 'd']\n",
      "['d', 1, 'c', 'a']\n"
     ]
    }
   ],
   "source": [
    "lst1 = [\"a\",\"b\",\"c\",1,\"d\"];\n",
    "print(lst1)\n",
    "lst1.remove(\"b\");\n",
    "print(lst1)\n",
    "lst1.reverse()\n",
    "print(lst1)"
   ]
  },
  {
   "cell_type": "markdown",
   "metadata": {},
   "source": [
    "# Data strutures:-\n",
    "\n",
    "**searching the data\n",
    "   *linear search\n",
    "   *bineary search\n",
    "   ->linear search:-\n",
    "          *linear search can also applied on unsorted list or sorted list\n",
    "          *linear search also applied on unique list"
   ]
  },
  {
   "cell_type": "code",
   "execution_count": 56,
   "metadata": {},
   "outputs": [],
   "source": [
    "def linearsearch(a,tarItam):\n",
    "    flag = 0;\n",
    "    for  i in range(len(a)):\n",
    "        if a[i] == tarItem:\n",
    "            flag = 1;\n",
    "            break\n",
    "        if(flag!=0):\n",
    "            print(\"Target item is found \")\n",
    "        else:\n",
    "            print(\"target item is not found\")\n",
    "            \n"
   ]
  },
  {
   "cell_type": "code",
   "execution_count": 6,
   "metadata": {},
   "outputs": [
    {
     "name": "stdout",
     "output_type": "stream",
     "text": [
      "i i  i i i i i  "
     ]
    }
   ],
   "source": [
    "def linearExample2(a,tarItem):\n",
    "  for i in  range(len(a)):\n",
    "    if a[i] == tarItem:\n",
    "        j=0\n",
    "        while j!=i+1:\n",
    "            print(\"i\",end=\" \")\n",
    "            j=j+1\n",
    "        print(end =\" \")\n",
    "    \n",
    "a=[1,5,9,6,5,1]\n",
    "linearExample2(a,5)"
   ]
  },
  {
   "cell_type": "markdown",
   "metadata": {},
   "source": [
    "input :list\n",
    "output:formatted output\n",
    "    "
   ]
  }
 ],
 "metadata": {
  "kernelspec": {
   "display_name": "Python 3",
   "language": "python",
   "name": "python3"
  },
  "language_info": {
   "codemirror_mode": {
    "name": "ipython",
    "version": 3
   },
   "file_extension": ".py",
   "mimetype": "text/x-python",
   "name": "python",
   "nbconvert_exporter": "python",
   "pygments_lexer": "ipython3",
   "version": "3.7.3"
  }
 },
 "nbformat": 4,
 "nbformat_minor": 2
}
